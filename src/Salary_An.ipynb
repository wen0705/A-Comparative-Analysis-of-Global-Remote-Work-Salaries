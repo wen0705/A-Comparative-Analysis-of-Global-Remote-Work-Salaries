{
  "nbformat": 4,
  "nbformat_minor": 0,
  "metadata": {
    "colab": {
      "name": "Salary_An.ipynb",
      "provenance": [],
      "collapsed_sections": []
    },
    "kernelspec": {
      "name": "python3",
      "display_name": "Python 3"
    },
    "language_info": {
      "name": "python"
    }
  },
  "cells": [
    {
      "cell_type": "markdown",
      "source": [
        "##Library and PyPI"
      ],
      "metadata": {
        "id": "GmNZWmpMaASM"
      }
    },
    {
      "cell_type": "code",
      "execution_count": 1,
      "metadata": {
        "id": "j9T8XNsOWct6",
        "colab": {
          "base_uri": "https://localhost:8080/"
        },
        "outputId": "cb3b308e-60fe-4e28-d847-4b6298a746ed"
      },
      "outputs": [
        {
          "output_type": "stream",
          "name": "stdout",
          "text": [
            "Collecting tueplots\n",
            "  Downloading tueplots-0.0.3-py3-none-any.whl (18 kB)\n",
            "Requirement already satisfied: numpy in /usr/local/lib/python3.7/dist-packages (from tueplots) (1.19.5)\n",
            "Requirement already satisfied: matplotlib in /usr/local/lib/python3.7/dist-packages (from tueplots) (3.2.2)\n",
            "Requirement already satisfied: pyparsing!=2.0.4,!=2.1.2,!=2.1.6,>=2.0.1 in /usr/local/lib/python3.7/dist-packages (from matplotlib->tueplots) (3.0.7)\n",
            "Requirement already satisfied: python-dateutil>=2.1 in /usr/local/lib/python3.7/dist-packages (from matplotlib->tueplots) (2.8.2)\n",
            "Requirement already satisfied: kiwisolver>=1.0.1 in /usr/local/lib/python3.7/dist-packages (from matplotlib->tueplots) (1.3.2)\n",
            "Requirement already satisfied: cycler>=0.10 in /usr/local/lib/python3.7/dist-packages (from matplotlib->tueplots) (0.11.0)\n",
            "Requirement already satisfied: six>=1.5 in /usr/local/lib/python3.7/dist-packages (from python-dateutil>=2.1->matplotlib->tueplots) (1.15.0)\n",
            "Installing collected packages: tueplots\n",
            "Successfully installed tueplots-0.0.3\n"
          ]
        }
      ],
      "source": [
        "# library\n",
        "import numpy as np\n",
        "import pandas as pd\n",
        "from scipy import stats\n",
        "import matplotlib.pyplot as plt\n",
        "!pip install tueplots\n",
        "from tueplots import bundles\n",
        "plt.rcParams.update(bundles.neurips2021(usetex=False))"
      ]
    },
    {
      "cell_type": "markdown",
      "source": [
        "##Data Preprocessing"
      ],
      "metadata": {
        "id": "GGFP9RHGWgjq"
      }
    },
    {
      "cell_type": "code",
      "source": [
        "# load data into the dataset\n",
        "dataset = pd.read_csv(\"https://salaries.freshremote.work/download/salaries.csv\")\n",
        "dataset.head(5)"
      ],
      "metadata": {
        "id": "92WuxZPwXr1Z",
        "colab": {
          "base_uri": "https://localhost:8080/",
          "height": 0
        },
        "outputId": "84944b5e-86c3-4013-8251-629276c24392"
      },
      "execution_count": 2,
      "outputs": [
        {
          "output_type": "execute_result",
          "data": {
            "text/html": [
              "\n",
              "  <div id=\"df-b68489b7-f2ec-4f67-a4b5-d96d5c9fc4ce\">\n",
              "    <div class=\"colab-df-container\">\n",
              "      <div>\n",
              "<style scoped>\n",
              "    .dataframe tbody tr th:only-of-type {\n",
              "        vertical-align: middle;\n",
              "    }\n",
              "\n",
              "    .dataframe tbody tr th {\n",
              "        vertical-align: top;\n",
              "    }\n",
              "\n",
              "    .dataframe thead th {\n",
              "        text-align: right;\n",
              "    }\n",
              "</style>\n",
              "<table border=\"1\" class=\"dataframe\">\n",
              "  <thead>\n",
              "    <tr style=\"text-align: right;\">\n",
              "      <th></th>\n",
              "      <th>work_year</th>\n",
              "      <th>experience_level</th>\n",
              "      <th>employment_type</th>\n",
              "      <th>job_title</th>\n",
              "      <th>salary</th>\n",
              "      <th>salary_currency</th>\n",
              "      <th>salary_in_usd</th>\n",
              "      <th>employee_residence</th>\n",
              "      <th>remote_ratio</th>\n",
              "      <th>company_location</th>\n",
              "      <th>company_size</th>\n",
              "    </tr>\n",
              "  </thead>\n",
              "  <tbody>\n",
              "    <tr>\n",
              "      <th>0</th>\n",
              "      <td>2022</td>\n",
              "      <td>MI</td>\n",
              "      <td>FT</td>\n",
              "      <td>DevOps Engineer</td>\n",
              "      <td>420000</td>\n",
              "      <td>ILS</td>\n",
              "      <td>134649</td>\n",
              "      <td>IL</td>\n",
              "      <td>50</td>\n",
              "      <td>IL</td>\n",
              "      <td>S</td>\n",
              "    </tr>\n",
              "    <tr>\n",
              "      <th>1</th>\n",
              "      <td>2022</td>\n",
              "      <td>SE</td>\n",
              "      <td>FT</td>\n",
              "      <td>DevOps Engineer</td>\n",
              "      <td>100000</td>\n",
              "      <td>USD</td>\n",
              "      <td>100000</td>\n",
              "      <td>US</td>\n",
              "      <td>100</td>\n",
              "      <td>US</td>\n",
              "      <td>L</td>\n",
              "    </tr>\n",
              "    <tr>\n",
              "      <th>2</th>\n",
              "      <td>2022</td>\n",
              "      <td>SE</td>\n",
              "      <td>FT</td>\n",
              "      <td>DevOps Engineer</td>\n",
              "      <td>140000</td>\n",
              "      <td>USD</td>\n",
              "      <td>140000</td>\n",
              "      <td>US</td>\n",
              "      <td>100</td>\n",
              "      <td>US</td>\n",
              "      <td>L</td>\n",
              "    </tr>\n",
              "    <tr>\n",
              "      <th>3</th>\n",
              "      <td>2022</td>\n",
              "      <td>EN</td>\n",
              "      <td>FT</td>\n",
              "      <td>Penetration Testing Engineer</td>\n",
              "      <td>50000</td>\n",
              "      <td>USD</td>\n",
              "      <td>50000</td>\n",
              "      <td>US</td>\n",
              "      <td>100</td>\n",
              "      <td>US</td>\n",
              "      <td>S</td>\n",
              "    </tr>\n",
              "    <tr>\n",
              "      <th>4</th>\n",
              "      <td>2021</td>\n",
              "      <td>EN</td>\n",
              "      <td>FT</td>\n",
              "      <td>Cyber Security Analyst</td>\n",
              "      <td>84300</td>\n",
              "      <td>USD</td>\n",
              "      <td>84300</td>\n",
              "      <td>US</td>\n",
              "      <td>100</td>\n",
              "      <td>US</td>\n",
              "      <td>L</td>\n",
              "    </tr>\n",
              "  </tbody>\n",
              "</table>\n",
              "</div>\n",
              "      <button class=\"colab-df-convert\" onclick=\"convertToInteractive('df-b68489b7-f2ec-4f67-a4b5-d96d5c9fc4ce')\"\n",
              "              title=\"Convert this dataframe to an interactive table.\"\n",
              "              style=\"display:none;\">\n",
              "        \n",
              "  <svg xmlns=\"http://www.w3.org/2000/svg\" height=\"24px\"viewBox=\"0 0 24 24\"\n",
              "       width=\"24px\">\n",
              "    <path d=\"M0 0h24v24H0V0z\" fill=\"none\"/>\n",
              "    <path d=\"M18.56 5.44l.94 2.06.94-2.06 2.06-.94-2.06-.94-.94-2.06-.94 2.06-2.06.94zm-11 1L8.5 8.5l.94-2.06 2.06-.94-2.06-.94L8.5 2.5l-.94 2.06-2.06.94zm10 10l.94 2.06.94-2.06 2.06-.94-2.06-.94-.94-2.06-.94 2.06-2.06.94z\"/><path d=\"M17.41 7.96l-1.37-1.37c-.4-.4-.92-.59-1.43-.59-.52 0-1.04.2-1.43.59L10.3 9.45l-7.72 7.72c-.78.78-.78 2.05 0 2.83L4 21.41c.39.39.9.59 1.41.59.51 0 1.02-.2 1.41-.59l7.78-7.78 2.81-2.81c.8-.78.8-2.07 0-2.86zM5.41 20L4 18.59l7.72-7.72 1.47 1.35L5.41 20z\"/>\n",
              "  </svg>\n",
              "      </button>\n",
              "      \n",
              "  <style>\n",
              "    .colab-df-container {\n",
              "      display:flex;\n",
              "      flex-wrap:wrap;\n",
              "      gap: 12px;\n",
              "    }\n",
              "\n",
              "    .colab-df-convert {\n",
              "      background-color: #E8F0FE;\n",
              "      border: none;\n",
              "      border-radius: 50%;\n",
              "      cursor: pointer;\n",
              "      display: none;\n",
              "      fill: #1967D2;\n",
              "      height: 32px;\n",
              "      padding: 0 0 0 0;\n",
              "      width: 32px;\n",
              "    }\n",
              "\n",
              "    .colab-df-convert:hover {\n",
              "      background-color: #E2EBFA;\n",
              "      box-shadow: 0px 1px 2px rgba(60, 64, 67, 0.3), 0px 1px 3px 1px rgba(60, 64, 67, 0.15);\n",
              "      fill: #174EA6;\n",
              "    }\n",
              "\n",
              "    [theme=dark] .colab-df-convert {\n",
              "      background-color: #3B4455;\n",
              "      fill: #D2E3FC;\n",
              "    }\n",
              "\n",
              "    [theme=dark] .colab-df-convert:hover {\n",
              "      background-color: #434B5C;\n",
              "      box-shadow: 0px 1px 3px 1px rgba(0, 0, 0, 0.15);\n",
              "      filter: drop-shadow(0px 1px 2px rgba(0, 0, 0, 0.3));\n",
              "      fill: #FFFFFF;\n",
              "    }\n",
              "  </style>\n",
              "\n",
              "      <script>\n",
              "        const buttonEl =\n",
              "          document.querySelector('#df-b68489b7-f2ec-4f67-a4b5-d96d5c9fc4ce button.colab-df-convert');\n",
              "        buttonEl.style.display =\n",
              "          google.colab.kernel.accessAllowed ? 'block' : 'none';\n",
              "\n",
              "        async function convertToInteractive(key) {\n",
              "          const element = document.querySelector('#df-b68489b7-f2ec-4f67-a4b5-d96d5c9fc4ce');\n",
              "          const dataTable =\n",
              "            await google.colab.kernel.invokeFunction('convertToInteractive',\n",
              "                                                     [key], {});\n",
              "          if (!dataTable) return;\n",
              "\n",
              "          const docLinkHtml = 'Like what you see? Visit the ' +\n",
              "            '<a target=\"_blank\" href=https://colab.research.google.com/notebooks/data_table.ipynb>data table notebook</a>'\n",
              "            + ' to learn more about interactive tables.';\n",
              "          element.innerHTML = '';\n",
              "          dataTable['output_type'] = 'display_data';\n",
              "          await google.colab.output.renderOutput(dataTable, element);\n",
              "          const docLink = document.createElement('div');\n",
              "          docLink.innerHTML = docLinkHtml;\n",
              "          element.appendChild(docLink);\n",
              "        }\n",
              "      </script>\n",
              "    </div>\n",
              "  </div>\n",
              "  "
            ],
            "text/plain": [
              "  work_year experience_level  ... company_location company_size\n",
              "0      2022               MI  ...               IL            S\n",
              "1      2022               SE  ...               US            L\n",
              "2      2022               SE  ...               US            L\n",
              "3      2022               EN  ...               US            S\n",
              "4      2021               EN  ...               US            L\n",
              "\n",
              "[5 rows x 11 columns]"
            ]
          },
          "metadata": {},
          "execution_count": 2
        }
      ]
    },
    {
      "cell_type": "code",
      "source": [
        "#utilize the job title  \n",
        "dataset = dataset.replace('Cybersecurity Training Specialist','Cyber Security Training Specialist')\n",
        "dataset = dataset.replace('Cybersecurity Researcher','Cyber Security Researcher')\n",
        "dataset = dataset.replace('Cybersecurity Engineer','Cyber Security Engineer')\n",
        "dataset = dataset.replace('Cybersecurity Architect','Cyber Security Architect')\n",
        "dataset = dataset.replace('Cybersecurity Specialist','Cyber Security Specialist')\n",
        "dataset = dataset.replace('Cybersecurity Analyst','Cyber Security Analyst') "
      ],
      "metadata": {
        "id": "GU7TA8Ci9ZHi"
      },
      "execution_count": 3,
      "outputs": []
    },
    {
      "cell_type": "code",
      "source": [
        "#we only interest in 2020\n",
        "dataset_2020 = dataset[dataset[\"work_year\"] == '2020']\n"
      ],
      "metadata": {
        "id": "cn9-GWCOYL3n"
      },
      "execution_count": 4,
      "outputs": []
    },
    {
      "cell_type": "markdown",
      "source": [
        "## Analysis: \n",
        "Test whether the mean salary for each level differ across the location"
      ],
      "metadata": {
        "id": "uR4dwkf601eq"
      }
    },
    {
      "cell_type": "code",
      "source": [
        "# select the location and full time\n",
        "pure_data_2020_USA =  dataset_2020[dataset_2020.company_location=='US']\n",
        "pure_data_2020_not_USA = dataset_2020[dataset_2020.company_location!='US']"
      ],
      "metadata": {
        "id": "0wu6cWHN2ZI7"
      },
      "execution_count": 5,
      "outputs": []
    },
    {
      "cell_type": "markdown",
      "source": [
        "### Full time jobs with entry level"
      ],
      "metadata": {
        "id": "MnBNSslJBX3O"
      }
    },
    {
      "cell_type": "code",
      "source": [
        "# Full time jobs with entry level 2020\n",
        "\n",
        "pure_data_2020_USA_1 = pure_data_2020_USA[pure_data_2020_USA.experience_level == 'EN']\n",
        "pure_data_2020_USA_1_FT = pure_data_2020_USA_1[pure_data_2020_USA_1.employment_type == 'FT']\n",
        "\n",
        "pure_data_2020_not_USA_1 = pure_data_2020_not_USA[pure_data_2020_not_USA.experience_level == 'EN']\n",
        "pure_data_2020_not_USA_1_FT = pure_data_2020_not_USA_1[pure_data_2020_not_USA_1.employment_type == 'FT']\n",
        "\n",
        "\n",
        "# still we want to compare with the same job \n",
        "# job-titles in 2020,2021 and 2021e\n",
        "usa_job = pure_data_2020_USA_1_FT.job_title.unique()\n",
        "no_usa_job = pure_data_2020_not_USA_1_FT.job_title.unique()\n",
        "\n",
        "# Find jobs only in one of the two year job sets\n",
        "unmatched_jobs = np.setxor1d(usa_job,no_usa_job) \n",
        "print(unmatched_jobs)\n",
        "\n",
        "# get new dataset\n",
        "pure_data_2020_USA_1_FT = pure_data_2020_USA_1_FT.drop(pure_data_2020_USA_1_FT[pure_data_2020_USA_1_FT.job_title.isin(unmatched_jobs)].index)\n",
        "pure_data_2020_not_USA_1_FT = pure_data_2020_not_USA_1_FT.drop(pure_data_2020_not_USA_1_FT[pure_data_2020_not_USA_1_FT.job_title.isin(unmatched_jobs)].index)\n",
        "\n",
        "pure_data_2020_USA_1_FT = pure_data_2020_USA_1_FT.sort_values('job_title')\n",
        "pure_data_2020_not_USA_1_FT = pure_data_2020_not_USA_1_FT.sort_values('job_title')"
      ],
      "metadata": {
        "id": "N6sKWK_p6_Yr",
        "colab": {
          "base_uri": "https://localhost:8080/"
        },
        "outputId": "e57a6c48-ee14-45d4-e1e0-f64d11156c5a"
      },
      "execution_count": 6,
      "outputs": [
        {
          "output_type": "stream",
          "name": "stdout",
          "text": [
            "['AI Scientist' 'Associate Product Manager' 'Automation Engineer'\n",
            " 'Big Data Engineer' 'Business Analyst' 'Cloud Operations Engineer'\n",
            " 'Copywriter' 'Customer Service Representative'\n",
            " 'Cyber Security Specialist' 'Data Engineer' 'Data Science Consultant'\n",
            " 'DevOps Architect' 'DevOps Automation Engineer' 'Frontend Developer'\n",
            " 'Full Stack Software Engineer' 'Hardware Support Engineer'\n",
            " 'IT Infrastructure Engineer' 'Information Security Analyst'\n",
            " 'Information Security Officer' 'Infrastructure Specialist'\n",
            " 'Lead UX Designer' 'Linux Infrastructure Developer'\n",
            " 'Machine Learning Engineer' 'Network Deployment Engineer'\n",
            " 'Network Security Engineer' 'Penetration Tester' 'Platform Engineer'\n",
            " 'Product Manager' 'Research Scientist' 'SOC Analyst' 'Security Engineer'\n",
            " 'Technical Project Manager' 'UX Designer']\n"
          ]
        }
      ]
    },
    {
      "cell_type": "code",
      "source": [
        "usa = (\n",
        "    pure_data_2020_USA_1_FT.groupby([\"company_size\",\"job_title\"])\n",
        "    .mean()\n",
        "    .reset_index()\n",
        "    )\n",
        "# usa\n",
        "usa = usa.drop(index = [0,4,7,8,9,10])\n",
        "usa"
      ],
      "metadata": {
        "colab": {
          "base_uri": "https://localhost:8080/",
          "height": 237
        },
        "id": "ZoIcENxAureV",
        "outputId": "19e99b67-ad0a-4e06-c364-e33186dd0763"
      },
      "execution_count": 7,
      "outputs": [
        {
          "output_type": "execute_result",
          "data": {
            "text/html": [
              "\n",
              "  <div id=\"df-9d729242-eed3-489b-8643-9c2ef7ceb474\">\n",
              "    <div class=\"colab-df-container\">\n",
              "      <div>\n",
              "<style scoped>\n",
              "    .dataframe tbody tr th:only-of-type {\n",
              "        vertical-align: middle;\n",
              "    }\n",
              "\n",
              "    .dataframe tbody tr th {\n",
              "        vertical-align: top;\n",
              "    }\n",
              "\n",
              "    .dataframe thead th {\n",
              "        text-align: right;\n",
              "    }\n",
              "</style>\n",
              "<table border=\"1\" class=\"dataframe\">\n",
              "  <thead>\n",
              "    <tr style=\"text-align: right;\">\n",
              "      <th></th>\n",
              "      <th>company_size</th>\n",
              "      <th>job_title</th>\n",
              "      <th>salary</th>\n",
              "      <th>salary_in_usd</th>\n",
              "      <th>remote_ratio</th>\n",
              "    </tr>\n",
              "  </thead>\n",
              "  <tbody>\n",
              "    <tr>\n",
              "      <th>1</th>\n",
              "      <td>L</td>\n",
              "      <td>Cloud DevOps Engineer</td>\n",
              "      <td>80000.0</td>\n",
              "      <td>80000.0</td>\n",
              "      <td>100.000000</td>\n",
              "    </tr>\n",
              "    <tr>\n",
              "      <th>2</th>\n",
              "      <td>L</td>\n",
              "      <td>Cyber Security Analyst</td>\n",
              "      <td>75500.0</td>\n",
              "      <td>75500.0</td>\n",
              "      <td>50.000000</td>\n",
              "    </tr>\n",
              "    <tr>\n",
              "      <th>3</th>\n",
              "      <td>L</td>\n",
              "      <td>Cyber Security Engineer</td>\n",
              "      <td>77320.0</td>\n",
              "      <td>77320.0</td>\n",
              "      <td>66.666667</td>\n",
              "    </tr>\n",
              "    <tr>\n",
              "      <th>5</th>\n",
              "      <td>L</td>\n",
              "      <td>DevOps Engineer</td>\n",
              "      <td>84000.0</td>\n",
              "      <td>84000.0</td>\n",
              "      <td>100.000000</td>\n",
              "    </tr>\n",
              "    <tr>\n",
              "      <th>6</th>\n",
              "      <td>L</td>\n",
              "      <td>Site Reliability Engineer</td>\n",
              "      <td>95000.0</td>\n",
              "      <td>95000.0</td>\n",
              "      <td>100.000000</td>\n",
              "    </tr>\n",
              "    <tr>\n",
              "      <th>11</th>\n",
              "      <td>S</td>\n",
              "      <td>Data Scientist</td>\n",
              "      <td>105000.0</td>\n",
              "      <td>105000.0</td>\n",
              "      <td>100.000000</td>\n",
              "    </tr>\n",
              "  </tbody>\n",
              "</table>\n",
              "</div>\n",
              "      <button class=\"colab-df-convert\" onclick=\"convertToInteractive('df-9d729242-eed3-489b-8643-9c2ef7ceb474')\"\n",
              "              title=\"Convert this dataframe to an interactive table.\"\n",
              "              style=\"display:none;\">\n",
              "        \n",
              "  <svg xmlns=\"http://www.w3.org/2000/svg\" height=\"24px\"viewBox=\"0 0 24 24\"\n",
              "       width=\"24px\">\n",
              "    <path d=\"M0 0h24v24H0V0z\" fill=\"none\"/>\n",
              "    <path d=\"M18.56 5.44l.94 2.06.94-2.06 2.06-.94-2.06-.94-.94-2.06-.94 2.06-2.06.94zm-11 1L8.5 8.5l.94-2.06 2.06-.94-2.06-.94L8.5 2.5l-.94 2.06-2.06.94zm10 10l.94 2.06.94-2.06 2.06-.94-2.06-.94-.94-2.06-.94 2.06-2.06.94z\"/><path d=\"M17.41 7.96l-1.37-1.37c-.4-.4-.92-.59-1.43-.59-.52 0-1.04.2-1.43.59L10.3 9.45l-7.72 7.72c-.78.78-.78 2.05 0 2.83L4 21.41c.39.39.9.59 1.41.59.51 0 1.02-.2 1.41-.59l7.78-7.78 2.81-2.81c.8-.78.8-2.07 0-2.86zM5.41 20L4 18.59l7.72-7.72 1.47 1.35L5.41 20z\"/>\n",
              "  </svg>\n",
              "      </button>\n",
              "      \n",
              "  <style>\n",
              "    .colab-df-container {\n",
              "      display:flex;\n",
              "      flex-wrap:wrap;\n",
              "      gap: 12px;\n",
              "    }\n",
              "\n",
              "    .colab-df-convert {\n",
              "      background-color: #E8F0FE;\n",
              "      border: none;\n",
              "      border-radius: 50%;\n",
              "      cursor: pointer;\n",
              "      display: none;\n",
              "      fill: #1967D2;\n",
              "      height: 32px;\n",
              "      padding: 0 0 0 0;\n",
              "      width: 32px;\n",
              "    }\n",
              "\n",
              "    .colab-df-convert:hover {\n",
              "      background-color: #E2EBFA;\n",
              "      box-shadow: 0px 1px 2px rgba(60, 64, 67, 0.3), 0px 1px 3px 1px rgba(60, 64, 67, 0.15);\n",
              "      fill: #174EA6;\n",
              "    }\n",
              "\n",
              "    [theme=dark] .colab-df-convert {\n",
              "      background-color: #3B4455;\n",
              "      fill: #D2E3FC;\n",
              "    }\n",
              "\n",
              "    [theme=dark] .colab-df-convert:hover {\n",
              "      background-color: #434B5C;\n",
              "      box-shadow: 0px 1px 3px 1px rgba(0, 0, 0, 0.15);\n",
              "      filter: drop-shadow(0px 1px 2px rgba(0, 0, 0, 0.3));\n",
              "      fill: #FFFFFF;\n",
              "    }\n",
              "  </style>\n",
              "\n",
              "      <script>\n",
              "        const buttonEl =\n",
              "          document.querySelector('#df-9d729242-eed3-489b-8643-9c2ef7ceb474 button.colab-df-convert');\n",
              "        buttonEl.style.display =\n",
              "          google.colab.kernel.accessAllowed ? 'block' : 'none';\n",
              "\n",
              "        async function convertToInteractive(key) {\n",
              "          const element = document.querySelector('#df-9d729242-eed3-489b-8643-9c2ef7ceb474');\n",
              "          const dataTable =\n",
              "            await google.colab.kernel.invokeFunction('convertToInteractive',\n",
              "                                                     [key], {});\n",
              "          if (!dataTable) return;\n",
              "\n",
              "          const docLinkHtml = 'Like what you see? Visit the ' +\n",
              "            '<a target=\"_blank\" href=https://colab.research.google.com/notebooks/data_table.ipynb>data table notebook</a>'\n",
              "            + ' to learn more about interactive tables.';\n",
              "          element.innerHTML = '';\n",
              "          dataTable['output_type'] = 'display_data';\n",
              "          await google.colab.output.renderOutput(dataTable, element);\n",
              "          const docLink = document.createElement('div');\n",
              "          docLink.innerHTML = docLinkHtml;\n",
              "          element.appendChild(docLink);\n",
              "        }\n",
              "      </script>\n",
              "    </div>\n",
              "  </div>\n",
              "  "
            ],
            "text/plain": [
              "   company_size                  job_title  ...  salary_in_usd  remote_ratio\n",
              "1             L      Cloud DevOps Engineer  ...        80000.0    100.000000\n",
              "2             L     Cyber Security Analyst  ...        75500.0     50.000000\n",
              "3             L    Cyber Security Engineer  ...        77320.0     66.666667\n",
              "5             L            DevOps Engineer  ...        84000.0    100.000000\n",
              "6             L  Site Reliability Engineer  ...        95000.0    100.000000\n",
              "11            S             Data Scientist  ...       105000.0    100.000000\n",
              "\n",
              "[6 rows x 5 columns]"
            ]
          },
          "metadata": {},
          "execution_count": 7
        }
      ]
    },
    {
      "cell_type": "code",
      "source": [
        "not_usa = (\n",
        "    pure_data_2020_not_USA_1_FT.groupby([\"company_size\",\"job_title\"])\n",
        "    .mean()\n",
        "    .reset_index()\n",
        "    )\n",
        "not_usa = not_usa.drop(index = [5,6,7,8,10])\n",
        "not_usa"
      ],
      "metadata": {
        "colab": {
          "base_uri": "https://localhost:8080/",
          "height": 237
        },
        "id": "GJihHvlzwGVP",
        "outputId": "034a1b43-729b-4f5c-91c2-957e7bbb9c09"
      },
      "execution_count": 8,
      "outputs": [
        {
          "output_type": "execute_result",
          "data": {
            "text/html": [
              "\n",
              "  <div id=\"df-39fad22c-c405-41b2-97f8-09fb192755cb\">\n",
              "    <div class=\"colab-df-container\">\n",
              "      <div>\n",
              "<style scoped>\n",
              "    .dataframe tbody tr th:only-of-type {\n",
              "        vertical-align: middle;\n",
              "    }\n",
              "\n",
              "    .dataframe tbody tr th {\n",
              "        vertical-align: top;\n",
              "    }\n",
              "\n",
              "    .dataframe thead th {\n",
              "        text-align: right;\n",
              "    }\n",
              "</style>\n",
              "<table border=\"1\" class=\"dataframe\">\n",
              "  <thead>\n",
              "    <tr style=\"text-align: right;\">\n",
              "      <th></th>\n",
              "      <th>company_size</th>\n",
              "      <th>job_title</th>\n",
              "      <th>salary</th>\n",
              "      <th>salary_in_usd</th>\n",
              "      <th>remote_ratio</th>\n",
              "    </tr>\n",
              "  </thead>\n",
              "  <tbody>\n",
              "    <tr>\n",
              "      <th>0</th>\n",
              "      <td>L</td>\n",
              "      <td>Cloud DevOps Engineer</td>\n",
              "      <td>32000.000000</td>\n",
              "      <td>32000.000000</td>\n",
              "      <td>50.000000</td>\n",
              "    </tr>\n",
              "    <tr>\n",
              "      <th>1</th>\n",
              "      <td>L</td>\n",
              "      <td>Cyber Security Analyst</td>\n",
              "      <td>224000.000000</td>\n",
              "      <td>15982.000000</td>\n",
              "      <td>100.000000</td>\n",
              "    </tr>\n",
              "    <tr>\n",
              "      <th>2</th>\n",
              "      <td>L</td>\n",
              "      <td>Cyber Security Engineer</td>\n",
              "      <td>35000.000000</td>\n",
              "      <td>44892.000000</td>\n",
              "      <td>100.000000</td>\n",
              "    </tr>\n",
              "    <tr>\n",
              "      <th>3</th>\n",
              "      <td>L</td>\n",
              "      <td>DevOps Engineer</td>\n",
              "      <td>54333.333333</td>\n",
              "      <td>48229.666667</td>\n",
              "      <td>66.666667</td>\n",
              "    </tr>\n",
              "    <tr>\n",
              "      <th>4</th>\n",
              "      <td>L</td>\n",
              "      <td>Site Reliability Engineer</td>\n",
              "      <td>26000.000000</td>\n",
              "      <td>33348.000000</td>\n",
              "      <td>100.000000</td>\n",
              "    </tr>\n",
              "    <tr>\n",
              "      <th>9</th>\n",
              "      <td>S</td>\n",
              "      <td>Data Scientist</td>\n",
              "      <td>55000.000000</td>\n",
              "      <td>62726.000000</td>\n",
              "      <td>50.000000</td>\n",
              "    </tr>\n",
              "  </tbody>\n",
              "</table>\n",
              "</div>\n",
              "      <button class=\"colab-df-convert\" onclick=\"convertToInteractive('df-39fad22c-c405-41b2-97f8-09fb192755cb')\"\n",
              "              title=\"Convert this dataframe to an interactive table.\"\n",
              "              style=\"display:none;\">\n",
              "        \n",
              "  <svg xmlns=\"http://www.w3.org/2000/svg\" height=\"24px\"viewBox=\"0 0 24 24\"\n",
              "       width=\"24px\">\n",
              "    <path d=\"M0 0h24v24H0V0z\" fill=\"none\"/>\n",
              "    <path d=\"M18.56 5.44l.94 2.06.94-2.06 2.06-.94-2.06-.94-.94-2.06-.94 2.06-2.06.94zm-11 1L8.5 8.5l.94-2.06 2.06-.94-2.06-.94L8.5 2.5l-.94 2.06-2.06.94zm10 10l.94 2.06.94-2.06 2.06-.94-2.06-.94-.94-2.06-.94 2.06-2.06.94z\"/><path d=\"M17.41 7.96l-1.37-1.37c-.4-.4-.92-.59-1.43-.59-.52 0-1.04.2-1.43.59L10.3 9.45l-7.72 7.72c-.78.78-.78 2.05 0 2.83L4 21.41c.39.39.9.59 1.41.59.51 0 1.02-.2 1.41-.59l7.78-7.78 2.81-2.81c.8-.78.8-2.07 0-2.86zM5.41 20L4 18.59l7.72-7.72 1.47 1.35L5.41 20z\"/>\n",
              "  </svg>\n",
              "      </button>\n",
              "      \n",
              "  <style>\n",
              "    .colab-df-container {\n",
              "      display:flex;\n",
              "      flex-wrap:wrap;\n",
              "      gap: 12px;\n",
              "    }\n",
              "\n",
              "    .colab-df-convert {\n",
              "      background-color: #E8F0FE;\n",
              "      border: none;\n",
              "      border-radius: 50%;\n",
              "      cursor: pointer;\n",
              "      display: none;\n",
              "      fill: #1967D2;\n",
              "      height: 32px;\n",
              "      padding: 0 0 0 0;\n",
              "      width: 32px;\n",
              "    }\n",
              "\n",
              "    .colab-df-convert:hover {\n",
              "      background-color: #E2EBFA;\n",
              "      box-shadow: 0px 1px 2px rgba(60, 64, 67, 0.3), 0px 1px 3px 1px rgba(60, 64, 67, 0.15);\n",
              "      fill: #174EA6;\n",
              "    }\n",
              "\n",
              "    [theme=dark] .colab-df-convert {\n",
              "      background-color: #3B4455;\n",
              "      fill: #D2E3FC;\n",
              "    }\n",
              "\n",
              "    [theme=dark] .colab-df-convert:hover {\n",
              "      background-color: #434B5C;\n",
              "      box-shadow: 0px 1px 3px 1px rgba(0, 0, 0, 0.15);\n",
              "      filter: drop-shadow(0px 1px 2px rgba(0, 0, 0, 0.3));\n",
              "      fill: #FFFFFF;\n",
              "    }\n",
              "  </style>\n",
              "\n",
              "      <script>\n",
              "        const buttonEl =\n",
              "          document.querySelector('#df-39fad22c-c405-41b2-97f8-09fb192755cb button.colab-df-convert');\n",
              "        buttonEl.style.display =\n",
              "          google.colab.kernel.accessAllowed ? 'block' : 'none';\n",
              "\n",
              "        async function convertToInteractive(key) {\n",
              "          const element = document.querySelector('#df-39fad22c-c405-41b2-97f8-09fb192755cb');\n",
              "          const dataTable =\n",
              "            await google.colab.kernel.invokeFunction('convertToInteractive',\n",
              "                                                     [key], {});\n",
              "          if (!dataTable) return;\n",
              "\n",
              "          const docLinkHtml = 'Like what you see? Visit the ' +\n",
              "            '<a target=\"_blank\" href=https://colab.research.google.com/notebooks/data_table.ipynb>data table notebook</a>'\n",
              "            + ' to learn more about interactive tables.';\n",
              "          element.innerHTML = '';\n",
              "          dataTable['output_type'] = 'display_data';\n",
              "          await google.colab.output.renderOutput(dataTable, element);\n",
              "          const docLink = document.createElement('div');\n",
              "          docLink.innerHTML = docLinkHtml;\n",
              "          element.appendChild(docLink);\n",
              "        }\n",
              "      </script>\n",
              "    </div>\n",
              "  </div>\n",
              "  "
            ],
            "text/plain": [
              "  company_size                  job_title  ...  salary_in_usd  remote_ratio\n",
              "0            L      Cloud DevOps Engineer  ...   32000.000000     50.000000\n",
              "1            L     Cyber Security Analyst  ...   15982.000000    100.000000\n",
              "2            L    Cyber Security Engineer  ...   44892.000000    100.000000\n",
              "3            L            DevOps Engineer  ...   48229.666667     66.666667\n",
              "4            L  Site Reliability Engineer  ...   33348.000000    100.000000\n",
              "9            S             Data Scientist  ...   62726.000000     50.000000\n",
              "\n",
              "[6 rows x 5 columns]"
            ]
          },
          "metadata": {},
          "execution_count": 8
        }
      ]
    },
    {
      "cell_type": "code",
      "source": [
        "# First check that if there is any significant outliers\n",
        "box = pd.DataFrame({'USA': usa.salary_in_usd, 'Non USA': not_usa.salary_in_usd})\n",
        "ax = box[['USA', 'Non USA']].plot(kind='box', title='boxplot', showmeans=True)\n",
        "ax.set_title('Boxplot',fontsize =20)\n",
        "plt.rc('legend', fontsize=15)\n",
        "ax.tick_params(axis='both', labelsize=20)\n",
        "plt.savefig('boxplot.png')\n",
        "plt.show()"
      ],
      "metadata": {
        "colab": {
          "base_uri": "https://localhost:8080/",
          "height": 312
        },
        "id": "6zwliaZ52f_K",
        "outputId": "fbf9813d-2152-4210-84ab-8d6fcd429b37"
      },
      "execution_count": 12,
      "outputs": [
        {
          "output_type": "display_data",
          "data": {
            "image/png": "[encoded data removed]",
            "text/plain": [
              "<Figure size 432x288 with 1 Axes>"
            ]
          },
          "metadata": {
            "needs_background": "light"
          }
        }
      ]
    },
    {
      "cell_type": "code",
      "source": [
        "#Now to test that the data came from a normal distribution. \n",
        "#Let’s test this statistically to see if the data is normally distributed. \n",
        "#To test this, one can use the Shapiro-Wilk test for normality.\n",
        "# Unfortunately the output is not labeled. The first value is the W test value, and the second value it the p-value.\n",
        "print(stats.shapiro(not_usa.salary_in_usd))\n",
        "print(stats.shapiro(usa.salary_in_usd))"
      ],
      "metadata": {
        "colab": {
          "base_uri": "https://localhost:8080/"
        },
        "id": "JBlNoLEw3jk1",
        "outputId": "9736f6e8-787c-4118-c498-c5e8425685d3"
      },
      "execution_count": 13,
      "outputs": [
        {
          "output_type": "stream",
          "name": "stdout",
          "text": [
            "(0.9826304316520691, 0.9638611674308777)\n",
            "(0.8834657073020935, 0.2853531837463379)\n"
          ]
        }
      ]
    },
    {
      "cell_type": "code",
      "source": [
        "# paired t-test\n",
        "stats.ttest_rel( usa.salary_in_usd,not_usa.salary_in_usd)\n",
        "# p-value is less than or equal to the specified significance level α, the null hypothesis is rejected\n",
        "# we reject the null hypothesis----> the average salary is different in USA and not USA"
      ],
      "metadata": {
        "colab": {
          "base_uri": "https://localhost:8080/"
        },
        "id": "WpYBVfi78klI",
        "outputId": "da773b4d-6977-49e3-ea16-fc8b7a7ea7f0"
      },
      "execution_count": 14,
      "outputs": [
        {
          "output_type": "execute_result",
          "data": {
            "text/plain": [
              "Ttest_relResult(statistic=9.433784779311871, pvalue=0.0002259232232220033)"
            ]
          },
          "metadata": {},
          "execution_count": 14
        }
      ]
    }
  ]
}